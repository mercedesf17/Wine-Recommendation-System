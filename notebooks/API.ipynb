{
 "cells": [
  {
   "cell_type": "code",
   "execution_count": 1,
   "metadata": {},
   "outputs": [
    {
     "name": "stdout",
     "output_type": "stream",
     "text": [
      "Please type in a description of the wine you would like to find: I want a buttery oaky sweet red wine from Porto\n"
     ]
    }
   ],
   "source": [
    "import openai\n",
    "from keys_notebook import api_key\n",
    "\n",
    "client = openai.OpenAI(api_key=api_key)\n",
    "\n",
    "# Predefined lists of wine characteristics for mapping\n",
    "wine_options = ['red wine', 'white wine', 'rosé wine', 'sparkling wine', 'dessert wine']\n",
    "flavor_options = [\"fruity\",\"spicy\", \"oaky\", \"herbal\", \"chocolate and coffee\", \"earthy and mineral\"]\n",
    "body_options = [\"light bodied\", \"medium bodied\", \"full bodied\"]\n",
    "sweetness_options = [\"dry\", \"balanced\", \"sweet\"]\n",
    "countries = [\"us\", \"france\", \"italy\", \"spain\", \"portugal\", \"chile\", \"argentina\", \"austria\",\n",
    "             \"australia\", \"germany\", \"new zealand\", \"south africa\", \"israel\", \"greece\", \"canada\"]\n",
    "wine_embeddings = wine_options + flavor_options + body_options + sweetness_options + countries\n",
    "\n",
    "description = input(\"Please type in a description of the wine you would like to find: \")\n",
    "\n",
    "\n",
    "response = client.chat.completions.create(\n",
    "    model=\"gpt-3.5-turbo\",\n",
    "    messages=[\n",
    "        {\"role\": \"system\", \"content\": f\"Given a list of user input characteristics such as wine types, flavors, and countries, map each to the nearest option in our predefined lists, ensuring to strictly adhere to the list for countries. If the user's input includes a country not on our list, like Russia, do not include it in the response. Instead, provide the closest geographical or stylistic relative from the list without defaulting to incorrect or unlisted countries. Use the following lists for mapping: {wine_embeddings}. Return the mapping results in a sentence like 'Based on our database, here is our suggested wine:' followed by the specific characteristics, ensuring country accuracy.\"\n",
    " },\n",
    "        {\"role\": \"user\", \"content\": description},\n",
    "    ],\n",
    "    max_tokens=150\n",
    "\n",
    ")\n"
   ]
  },
  {
   "cell_type": "code",
   "execution_count": 2,
   "metadata": {},
   "outputs": [
    {
     "data": {
      "text/plain": [
       "'Based on our database, here is our suggested wine: sweet, oaky, red wine from Portugal.'"
      ]
     },
     "execution_count": 2,
     "metadata": {},
     "output_type": "execute_result"
    }
   ],
   "source": [
    "# Extract the generated text from the response\n",
    "generated_text = response.choices[0].message.content\n",
    "\n",
    "generated_text\n"
   ]
  },
  {
   "cell_type": "code",
   "execution_count": null,
   "metadata": {},
   "outputs": [],
   "source": []
  }
 ],
 "metadata": {
  "kernelspec": {
   "display_name": "Python 3 (ipykernel)",
   "language": "python",
   "name": "python3"
  },
  "language_info": {
   "codemirror_mode": {
    "name": "ipython",
    "version": 3
   },
   "file_extension": ".py",
   "mimetype": "text/x-python",
   "name": "python",
   "nbconvert_exporter": "python",
   "pygments_lexer": "ipython3",
   "version": "3.10.6"
  },
  "toc": {
   "base_numbering": 1,
   "nav_menu": {},
   "number_sections": true,
   "sideBar": true,
   "skip_h1_title": false,
   "title_cell": "Table of Contents",
   "title_sidebar": "Contents",
   "toc_cell": false,
   "toc_position": {},
   "toc_section_display": true,
   "toc_window_display": false
  }
 },
 "nbformat": 4,
 "nbformat_minor": 2
}
